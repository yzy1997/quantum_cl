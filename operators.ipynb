{
 "cells": [
  {
   "cell_type": "code",
   "execution_count": 1,
   "metadata": {},
   "outputs": [],
   "source": [
    "import pennylane as qml\n",
    "\n",
    "def my_quantum_function(x, y):\n",
    "    qml.RZ(x, wires=0)\n",
    "    qml.CNOT(wires=[0,1])\n",
    "    qml.RY(y, wires=1)\n",
    "    qml.AmplitudeDamping(0.1, wires=0)\n",
    "    return qml.expval(qml.PauliZ(1))"
   ]
  },
  {
   "cell_type": "code",
   "execution_count": 2,
   "metadata": {},
   "outputs": [
    {
     "data": {
      "text/plain": [
       "1.2 * (Hadamard(wires=[0]) + X(0) @ Z(1))"
      ]
     },
     "execution_count": 2,
     "metadata": {},
     "output_type": "execute_result"
    }
   ],
   "source": [
    "op = qml.prod(qml.PauliX(0), qml.PauliZ(1))\n",
    "op = qml.sum(qml.Hadamard(0), op)\n",
    "op = qml.s_prod(1.2, op)\n",
    "op"
   ]
  },
  {
   "cell_type": "code",
   "execution_count": 3,
   "metadata": {},
   "outputs": [
    {
     "data": {
      "text/plain": [
       "array([[0.9637709+0.j        , 0.       -0.26673144j],\n",
       "       [0.       -0.26673144j, 0.9637709+0.j        ]])"
      ]
     },
     "execution_count": 3,
     "metadata": {},
     "output_type": "execute_result"
    }
   ],
   "source": [
    "op = qml.RX(0.54, wires=0)\n",
    "qml.matrix(op)"
   ]
  },
  {
   "cell_type": "code",
   "execution_count": 6,
   "metadata": {},
   "outputs": [
    {
     "data": {
      "text/plain": [
       "tensor([[0.9553+0.0000j, 0.0000-0.2955j],\n",
       "        [0.0000-0.2955j, 0.9553+0.0000j]], grad_fn=<StackBackward0>)"
      ]
     },
     "execution_count": 6,
     "metadata": {},
     "output_type": "execute_result"
    }
   ],
   "source": [
    "import torch\n",
    "x = torch.tensor(0.6, requires_grad=True)\n",
    "matrix_fn = qml.matrix(qml.RX)\n",
    "matrix_fn(x, wires=0)"
   ]
  },
  {
   "cell_type": "code",
   "execution_count": 7,
   "metadata": {},
   "outputs": [
    {
     "data": {
      "text/plain": [
       "tensor(-0.2955)"
      ]
     },
     "execution_count": 7,
     "metadata": {},
     "output_type": "execute_result"
    }
   ],
   "source": [
    "loss = torch.real(torch.trace(matrix_fn(x, wires=0)))\n",
    "loss.backward()\n",
    "x.grad"
   ]
  },
  {
   "cell_type": "code",
   "execution_count": 10,
   "metadata": {},
   "outputs": [
    {
     "data": {
      "text/plain": [
       "array([[ 0.92387953+0.j        ,  0.        +0.j        ,\n",
       "         0.        -0.38268343j,  0.        +0.j        ],\n",
       "       [ 0.        +0.j        , -0.92387953+0.j        ,\n",
       "         0.        +0.j        ,  0.        +0.38268343j],\n",
       "       [ 0.        -0.38268343j,  0.        +0.j        ,\n",
       "         0.92387953+0.j        ,  0.        +0.j        ],\n",
       "       [ 0.        +0.j        ,  0.        +0.38268343j,\n",
       "         0.        +0.j        , -0.92387953+0.j        ]])"
      ]
     },
     "execution_count": 10,
     "metadata": {},
     "output_type": "execute_result"
    }
   ],
   "source": [
    "from pennylane import numpy as np\n",
    "def circuit(theta):\n",
    "    qml.RX(theta, wires=1)\n",
    "    qml.Z(wires=0)\n",
    "qml.matrix(circuit, wire_order=[1,0])(np.pi / 4)"
   ]
  }
 ],
 "metadata": {
  "kernelspec": {
   "display_name": "quan_cl",
   "language": "python",
   "name": "python3"
  },
  "language_info": {
   "codemirror_mode": {
    "name": "ipython",
    "version": 3
   },
   "file_extension": ".py",
   "mimetype": "text/x-python",
   "name": "python",
   "nbconvert_exporter": "python",
   "pygments_lexer": "ipython3",
   "version": "3.10.8"
  }
 },
 "nbformat": 4,
 "nbformat_minor": 2
}

{
 "cells": [
  {
   "cell_type": "code",
   "execution_count": 1,
   "metadata": {},
   "outputs": [
    {
     "name": "stdout",
     "output_type": "stream",
     "text": [
      "0.49628561029741747\n"
     ]
    }
   ],
   "source": [
    "import pennylane as qml\n",
    "\n",
    "dev = qml.device('default.qubit', wires=2)\n",
    "\n",
    "@qml.qnode(dev)\n",
    "def circuit(weights, f=None):\n",
    "    qml.QAOAEmbedding(features=f, weights=weights, wires=range(2))\n",
    "    return qml.expval(qml.Z(0))\n",
    "\n",
    "features = [1., 2.]\n",
    "layer1 = [0.1, -0.3, 1.5]\n",
    "layer2 = [3.1, 0.2, -2.8]\n",
    "weights = [layer1, layer2]\n",
    "\n",
    "print(circuit(weights, f=features))"
   ]
  },
  {
   "cell_type": "code",
   "execution_count": 3,
   "metadata": {},
   "outputs": [],
   "source": [
    "from pennylane import numpy as np\n",
    "shape = qml.QAOAEmbedding.shape(n_layers=2, n_wires=2)\n",
    "weights = np.random.random(shape)"
   ]
  },
  {
   "cell_type": "code",
   "execution_count": 5,
   "metadata": {},
   "outputs": [
    {
     "name": "stdout",
     "output_type": "stream",
     "text": [
      "Step  0  weights =  [[0.1, -0.3, 1.5], [3.1, 0.2, -2.8]]\n",
      "Step  1  weights =  [[0.1, -0.3, 1.5], [3.1, 0.2, -2.8]]\n",
      "Step  2  weights =  [[0.1, -0.3, 1.5], [3.1, 0.2, -2.8]]\n",
      "Step  3  weights =  [[0.1, -0.3, 1.5], [3.1, 0.2, -2.8]]\n",
      "Step  4  weights =  [[0.1, -0.3, 1.5], [3.1, 0.2, -2.8]]\n",
      "Step  5  weights =  [[0.1, -0.3, 1.5], [3.1, 0.2, -2.8]]\n",
      "Step  6  weights =  [[0.1, -0.3, 1.5], [3.1, 0.2, -2.8]]\n",
      "Step  7  weights =  [[0.1, -0.3, 1.5], [3.1, 0.2, -2.8]]\n",
      "Step  8  weights =  [[0.1, -0.3, 1.5], [3.1, 0.2, -2.8]]\n",
      "Step  9  weights =  [[0.1, -0.3, 1.5], [3.1, 0.2, -2.8]]\n"
     ]
    },
    {
     "name": "stderr",
     "output_type": "stream",
     "text": [
      "/home/yangz2/anaconda3/envs/quan_cl/lib/python3.10/site-packages/pennylane/_grad.py:158: UserWarning: Attempted to differentiate a function with no trainable parameters. If this is unintended, please add trainable parameters via the 'requires_grad' attribute or 'argnum' keyword.\n",
      "  warnings.warn(\n",
      "/home/yangz2/anaconda3/envs/quan_cl/lib/python3.10/site-packages/pennylane/_grad.py:158: UserWarning: Attempted to differentiate a function with no trainable parameters. If this is unintended, please add trainable parameters via the 'requires_grad' attribute or 'argnum' keyword.\n",
      "  warnings.warn(\n",
      "/home/yangz2/anaconda3/envs/quan_cl/lib/python3.10/site-packages/pennylane/_grad.py:158: UserWarning: Attempted to differentiate a function with no trainable parameters. If this is unintended, please add trainable parameters via the 'requires_grad' attribute or 'argnum' keyword.\n",
      "  warnings.warn(\n",
      "/home/yangz2/anaconda3/envs/quan_cl/lib/python3.10/site-packages/pennylane/_grad.py:158: UserWarning: Attempted to differentiate a function with no trainable parameters. If this is unintended, please add trainable parameters via the 'requires_grad' attribute or 'argnum' keyword.\n",
      "  warnings.warn(\n",
      "/home/yangz2/anaconda3/envs/quan_cl/lib/python3.10/site-packages/pennylane/_grad.py:158: UserWarning: Attempted to differentiate a function with no trainable parameters. If this is unintended, please add trainable parameters via the 'requires_grad' attribute or 'argnum' keyword.\n",
      "  warnings.warn(\n",
      "/home/yangz2/anaconda3/envs/quan_cl/lib/python3.10/site-packages/pennylane/_grad.py:158: UserWarning: Attempted to differentiate a function with no trainable parameters. If this is unintended, please add trainable parameters via the 'requires_grad' attribute or 'argnum' keyword.\n",
      "  warnings.warn(\n",
      "/home/yangz2/anaconda3/envs/quan_cl/lib/python3.10/site-packages/pennylane/_grad.py:158: UserWarning: Attempted to differentiate a function with no trainable parameters. If this is unintended, please add trainable parameters via the 'requires_grad' attribute or 'argnum' keyword.\n",
      "  warnings.warn(\n",
      "/home/yangz2/anaconda3/envs/quan_cl/lib/python3.10/site-packages/pennylane/_grad.py:158: UserWarning: Attempted to differentiate a function with no trainable parameters. If this is unintended, please add trainable parameters via the 'requires_grad' attribute or 'argnum' keyword.\n",
      "  warnings.warn(\n",
      "/home/yangz2/anaconda3/envs/quan_cl/lib/python3.10/site-packages/pennylane/_grad.py:158: UserWarning: Attempted to differentiate a function with no trainable parameters. If this is unintended, please add trainable parameters via the 'requires_grad' attribute or 'argnum' keyword.\n",
      "  warnings.warn(\n",
      "/home/yangz2/anaconda3/envs/quan_cl/lib/python3.10/site-packages/pennylane/_grad.py:158: UserWarning: Attempted to differentiate a function with no trainable parameters. If this is unintended, please add trainable parameters via the 'requires_grad' attribute or 'argnum' keyword.\n",
      "  warnings.warn(\n"
     ]
    }
   ],
   "source": [
    "opt = qml.GradientDescentOptimizer()\n",
    "for i in range(10):\n",
    "    weights = opt.step(lambda w : circuit(w, f=features), weights)\n",
    "    print(\"Step \", i, \" weights = \", weights)"
   ]
  },
  {
   "cell_type": "code",
   "execution_count": 6,
   "metadata": {},
   "outputs": [
    {
     "name": "stdout",
     "output_type": "stream",
     "text": [
      "Step  0 \n",
      " weights =  [[0.1, -0.3, 1.5], [3.1, 0.2, -2.8]] \n",
      " features =  [1.0, 2.0] \n",
      "\n",
      "Step  1 \n",
      " weights =  [[0.1, -0.3, 1.5], [3.1, 0.2, -2.8]] \n",
      " features =  [1.0, 2.0] \n",
      "\n",
      "Step  2 \n",
      " weights =  [[0.1, -0.3, 1.5], [3.1, 0.2, -2.8]] \n",
      " features =  [1.0, 2.0] \n",
      "\n",
      "Step  3 \n",
      " weights =  [[0.1, -0.3, 1.5], [3.1, 0.2, -2.8]] \n",
      " features =  [1.0, 2.0] \n",
      "\n",
      "Step  4 \n",
      " weights =  [[0.1, -0.3, 1.5], [3.1, 0.2, -2.8]] \n",
      " features =  [1.0, 2.0] \n",
      "\n",
      "Step  5 \n",
      " weights =  [[0.1, -0.3, 1.5], [3.1, 0.2, -2.8]] \n",
      " features =  [1.0, 2.0] \n",
      "\n",
      "Step  6 \n",
      " weights =  [[0.1, -0.3, 1.5], [3.1, 0.2, -2.8]] \n",
      " features =  [1.0, 2.0] \n",
      "\n",
      "Step  7 \n",
      " weights =  [[0.1, -0.3, 1.5], [3.1, 0.2, -2.8]] \n",
      " features =  [1.0, 2.0] \n",
      "\n",
      "Step  8 \n",
      " weights =  [[0.1, -0.3, 1.5], [3.1, 0.2, -2.8]] \n",
      " features =  [1.0, 2.0] \n",
      "\n",
      "Step  9 \n",
      " weights =  [[0.1, -0.3, 1.5], [3.1, 0.2, -2.8]] \n",
      " features =  [1.0, 2.0] \n",
      "\n"
     ]
    },
    {
     "name": "stderr",
     "output_type": "stream",
     "text": [
      "/home/yangz2/anaconda3/envs/quan_cl/lib/python3.10/site-packages/pennylane/_grad.py:158: UserWarning: Attempted to differentiate a function with no trainable parameters. If this is unintended, please add trainable parameters via the 'requires_grad' attribute or 'argnum' keyword.\n",
      "  warnings.warn(\n",
      "/home/yangz2/anaconda3/envs/quan_cl/lib/python3.10/site-packages/pennylane/_grad.py:158: UserWarning: Attempted to differentiate a function with no trainable parameters. If this is unintended, please add trainable parameters via the 'requires_grad' attribute or 'argnum' keyword.\n",
      "  warnings.warn(\n",
      "/home/yangz2/anaconda3/envs/quan_cl/lib/python3.10/site-packages/pennylane/_grad.py:158: UserWarning: Attempted to differentiate a function with no trainable parameters. If this is unintended, please add trainable parameters via the 'requires_grad' attribute or 'argnum' keyword.\n",
      "  warnings.warn(\n",
      "/home/yangz2/anaconda3/envs/quan_cl/lib/python3.10/site-packages/pennylane/_grad.py:158: UserWarning: Attempted to differentiate a function with no trainable parameters. If this is unintended, please add trainable parameters via the 'requires_grad' attribute or 'argnum' keyword.\n",
      "  warnings.warn(\n",
      "/home/yangz2/anaconda3/envs/quan_cl/lib/python3.10/site-packages/pennylane/_grad.py:158: UserWarning: Attempted to differentiate a function with no trainable parameters. If this is unintended, please add trainable parameters via the 'requires_grad' attribute or 'argnum' keyword.\n",
      "  warnings.warn(\n",
      "/home/yangz2/anaconda3/envs/quan_cl/lib/python3.10/site-packages/pennylane/_grad.py:158: UserWarning: Attempted to differentiate a function with no trainable parameters. If this is unintended, please add trainable parameters via the 'requires_grad' attribute or 'argnum' keyword.\n",
      "  warnings.warn(\n",
      "/home/yangz2/anaconda3/envs/quan_cl/lib/python3.10/site-packages/pennylane/_grad.py:158: UserWarning: Attempted to differentiate a function with no trainable parameters. If this is unintended, please add trainable parameters via the 'requires_grad' attribute or 'argnum' keyword.\n",
      "  warnings.warn(\n",
      "/home/yangz2/anaconda3/envs/quan_cl/lib/python3.10/site-packages/pennylane/_grad.py:158: UserWarning: Attempted to differentiate a function with no trainable parameters. If this is unintended, please add trainable parameters via the 'requires_grad' attribute or 'argnum' keyword.\n",
      "  warnings.warn(\n",
      "/home/yangz2/anaconda3/envs/quan_cl/lib/python3.10/site-packages/pennylane/_grad.py:158: UserWarning: Attempted to differentiate a function with no trainable parameters. If this is unintended, please add trainable parameters via the 'requires_grad' attribute or 'argnum' keyword.\n",
      "  warnings.warn(\n",
      "/home/yangz2/anaconda3/envs/quan_cl/lib/python3.10/site-packages/pennylane/_grad.py:158: UserWarning: Attempted to differentiate a function with no trainable parameters. If this is unintended, please add trainable parameters via the 'requires_grad' attribute or 'argnum' keyword.\n",
      "  warnings.warn(\n"
     ]
    }
   ],
   "source": [
    "@qml.qnode(dev)\n",
    "def circuit2(weights, features):\n",
    "    qml.QAOAEmbedding(features=features, weights=weights, wires=range(2))\n",
    "    return qml.expval(qml.Z(0))\n",
    "\n",
    "\n",
    "features = [1., 2.]\n",
    "weights = [[0.1, -0.3, 1.5], [3.1, 0.2, -2.8]]\n",
    "\n",
    "opt = qml.GradientDescentOptimizer()\n",
    "for i in range(10):\n",
    "    weights, features = opt.step(circuit2, weights, features)\n",
    "    print(\"Step \", i, \"\\n weights = \", weights, \"\\n features = \", features,\"\\n\")"
   ]
  },
  {
   "cell_type": "code",
   "execution_count": 7,
   "metadata": {},
   "outputs": [],
   "source": [
    "@qml.qnode(dev)\n",
    "def circuit(weights, f=None):\n",
    "    qml.QAOAEmbedding(features=f, weights=weights, wires=range(2), local_field='Z')\n",
    "    return qml.expval(qml.Z(0))"
   ]
  },
  {
   "cell_type": "code",
   "execution_count": null,
   "metadata": {},
   "outputs": [],
   "source": []
  }
 ],
 "metadata": {
  "kernelspec": {
   "display_name": "quan_cl",
   "language": "python",
   "name": "python3"
  },
  "language_info": {
   "codemirror_mode": {
    "name": "ipython",
    "version": 3
   },
   "file_extension": ".py",
   "mimetype": "text/x-python",
   "name": "python",
   "nbconvert_exporter": "python",
   "pygments_lexer": "ipython3",
   "version": "3.10.8"
  }
 },
 "nbformat": 4,
 "nbformat_minor": 2
}
